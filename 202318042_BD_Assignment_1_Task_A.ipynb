{
  "nbformat": 4,
  "nbformat_minor": 0,
  "metadata": {
    "colab": {
      "provenance": []
    },
    "kernelspec": {
      "name": "python3",
      "display_name": "Python 3"
    },
    "language_info": {
      "name": "python"
    }
  },
  "cells": [
    {
      "cell_type": "markdown",
      "source": [
        "#Big Data\n",
        "#Assignment 1\n",
        "##202318042"
      ],
      "metadata": {
        "id": "2W3zKcKKpfOk"
      }
    },
    {
      "cell_type": "markdown",
      "source": [
        "##Task A"
      ],
      "metadata": {
        "id": "RrleNSjVpoJu"
      }
    },
    {
      "cell_type": "code",
      "execution_count": null,
      "metadata": {
        "id": "KxfCCssXkq6t"
      },
      "outputs": [],
      "source": [
        "import numpy as np"
      ]
    },
    {
      "cell_type": "code",
      "source": [
        "n=int(input(\"size of your square matrix:\"))"
      ],
      "metadata": {
        "colab": {
          "base_uri": "https://localhost:8080/"
        },
        "id": "5jwPev6Kkr-V",
        "outputId": "f89328d0-882f-478b-fea7-d7870ab1947d"
      },
      "execution_count": null,
      "outputs": [
        {
          "name": "stdout",
          "output_type": "stream",
          "text": [
            "size of your square matrix:2\n"
          ]
        }
      ]
    },
    {
      "cell_type": "code",
      "source": [
        "#making a matrix A with dimension (2n X 2n)\n",
        "A=np.random.randint(5, size=(2*n, 2*n))\n",
        "print(f\"let the first matrix be:\\n{A}\")"
      ],
      "metadata": {
        "colab": {
          "base_uri": "https://localhost:8080/"
        },
        "id": "L-mHP5WEk1Ts",
        "outputId": "153f3987-817b-4cd7-e79b-1821879c04e0"
      },
      "execution_count": null,
      "outputs": [
        {
          "output_type": "stream",
          "name": "stdout",
          "text": [
            "let the first matrix be:\n",
            "[[3 0 4 3]\n",
            " [2 1 0 1]\n",
            " [2 4 0 3]\n",
            " [2 1 4 0]]\n"
          ]
        }
      ]
    },
    {
      "cell_type": "code",
      "source": [
        "#making a matrix B with dimension (2n X 2n)\n",
        "B=np.random.randint(5,9, size=(2*n, 2*n))\n",
        "print(f\"let the second matrix be:\\n{B}\")"
      ],
      "metadata": {
        "colab": {
          "base_uri": "https://localhost:8080/"
        },
        "id": "aHoqXvqQk6Ul",
        "outputId": "29c4ea97-f2e9-4f6a-ca51-5968182003f6"
      },
      "execution_count": null,
      "outputs": [
        {
          "output_type": "stream",
          "name": "stdout",
          "text": [
            "let the second matrix be:\n",
            "[[6 8 5 8]\n",
            " [6 7 5 8]\n",
            " [7 6 5 7]\n",
            " [7 8 6 6]]\n"
          ]
        }
      ]
    },
    {
      "cell_type": "code",
      "source": [
        "block_size=2"
      ],
      "metadata": {
        "id": "3_pZtx9xk-Tw"
      },
      "execution_count": null,
      "outputs": []
    },
    {
      "cell_type": "code",
      "source": [
        "def block_multiply(A, B,block_size):\n",
        "\n",
        "    size = len(A)\n",
        "    result = [[0 for _ in range(size)] for _ in range(size)]\n",
        "\n",
        "    for i in range(0, size, block_size):\n",
        "        for j in range(0, size, block_size):\n",
        "            for k in range(0, size, block_size):\n",
        "                for ii in range(i, i + block_size):\n",
        "                    for jj in range(j, j + block_size):\n",
        "                        for kk in range(k, k + block_size):\n",
        "                            result[ii][jj] += A[ii][kk] * B[kk][jj]\n",
        "\n",
        "    return result"
      ],
      "metadata": {
        "id": "sJq3UqdHmQU7"
      },
      "execution_count": null,
      "outputs": []
    },
    {
      "cell_type": "code",
      "source": [
        "ans=block_multiply(A, B,block_size)"
      ],
      "metadata": {
        "id": "L9cDkJ3mmvbS"
      },
      "execution_count": null,
      "outputs": []
    },
    {
      "cell_type": "code",
      "source": [
        "print(ans)"
      ],
      "metadata": {
        "colab": {
          "base_uri": "https://localhost:8080/"
        },
        "id": "3BVRWHpGm2hk",
        "outputId": "c93a09d4-8ea4-4b40-cefd-24d301947e6d"
      },
      "execution_count": null,
      "outputs": [
        {
          "output_type": "stream",
          "name": "stdout",
          "text": [
            "[[67, 72, 53, 70], [25, 31, 21, 30], [57, 68, 48, 66], [46, 47, 35, 52]]\n"
          ]
        }
      ]
    },
    {
      "cell_type": "code",
      "source": [
        "#doing normal matrix multiplication\n",
        "def matrix_multiply(A, B):\n",
        "\n",
        "    result = [[0 for _ in range(len(B[0]))] for _ in range(len(A))]\n",
        "\n",
        "    for i in range(len(A)):\n",
        "        for j in range(len(B[0])):\n",
        "            for k in range(len(B)):\n",
        "                result[i][j] += A[i][k] * B[k][j]\n",
        "\n",
        "    return result"
      ],
      "metadata": {
        "id": "2dtD5qt5lA4_"
      },
      "execution_count": null,
      "outputs": []
    },
    {
      "cell_type": "code",
      "source": [
        " tester=matrix_multiply(A, B)\n",
        " print(tester)"
      ],
      "metadata": {
        "colab": {
          "base_uri": "https://localhost:8080/"
        },
        "id": "Sl3WAj0amMaB",
        "outputId": "5a0f6e2c-2b6a-45f6-d854-4edc9c8e15da"
      },
      "execution_count": null,
      "outputs": [
        {
          "output_type": "stream",
          "name": "stdout",
          "text": [
            "[[67, 72, 53, 70], [25, 31, 21, 30], [57, 68, 48, 66], [46, 47, 35, 52]]\n"
          ]
        }
      ]
    },
    {
      "cell_type": "code",
      "source": [],
      "metadata": {
        "id": "OQvsAK1gm6Pb"
      },
      "execution_count": null,
      "outputs": []
    }
  ]
}