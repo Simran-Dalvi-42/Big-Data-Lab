{
  "nbformat": 4,
  "nbformat_minor": 0,
  "metadata": {
    "colab": {
      "provenance": []
    },
    "kernelspec": {
      "name": "python3",
      "display_name": "Python 3"
    },
    "language_info": {
      "name": "python"
    }
  },
  "cells": [
    {
      "cell_type": "markdown",
      "source": [
        "#Big Data\n",
        "#Assignment 2\n",
        "##202318042\n",
        "\n",
        "To implement a document similarity search using TF-IDF\n",
        "(Term Frequency-Inverse Document Frequency) in Python. You will build a system that,\n",
        "given a document, retrieves other documents based on their similarity to the input\n",
        "document."
      ],
      "metadata": {
        "id": "Ydk08m5IF7VW"
      }
    },
    {
      "cell_type": "code",
      "source": [
        "import pandas as pd\n",
        "import sklearn"
      ],
      "metadata": {
        "id": "z73zUkrC3pdZ"
      },
      "execution_count": 2,
      "outputs": []
    },
    {
      "cell_type": "markdown",
      "source": [
        "##Q1."
      ],
      "metadata": {
        "id": "MfspZUDwGJAk"
      }
    },
    {
      "cell_type": "code",
      "execution_count": 3,
      "metadata": {
        "id": "ppqxdHBx3Za8"
      },
      "outputs": [],
      "source": [
        "from sklearn.feature_extraction.text import TfidfVectorizer"
      ]
    },
    {
      "cell_type": "code",
      "source": [
        "from sklearn.datasets import fetch_20newsgroups"
      ],
      "metadata": {
        "id": "KY2YA5m16VU9"
      },
      "execution_count": 4,
      "outputs": []
    },
    {
      "cell_type": "code",
      "source": [
        "data=fetch_20newsgroups(subset=\"train\")"
      ],
      "metadata": {
        "id": "Tiwxirma6m00"
      },
      "execution_count": 5,
      "outputs": []
    },
    {
      "cell_type": "code",
      "source": [
        "vectorizer = TfidfVectorizer()\n",
        "x = vectorizer.fit_transform(data.data)"
      ],
      "metadata": {
        "id": "a06R2vhw7IRG"
      },
      "execution_count": 6,
      "outputs": []
    },
    {
      "cell_type": "code",
      "source": [
        "x.shape"
      ],
      "metadata": {
        "colab": {
          "base_uri": "https://localhost:8080/"
        },
        "id": "TXErNbc-7g9G",
        "outputId": "fb4df9b9-2bfa-4dfb-d387-4a001db0b5c5"
      },
      "execution_count": 7,
      "outputs": [
        {
          "output_type": "execute_result",
          "data": {
            "text/plain": [
              "(11314, 130107)"
            ]
          },
          "metadata": {},
          "execution_count": 7
        }
      ]
    },
    {
      "cell_type": "code",
      "source": [
        "print(x)"
      ],
      "metadata": {
        "colab": {
          "base_uri": "https://localhost:8080/"
        },
        "id": "65-M2VxN_M9x",
        "outputId": "3ad74ba4-9eef-413c-afb5-0c69d1b11833"
      },
      "execution_count": 12,
      "outputs": [
        {
          "output_type": "stream",
          "name": "stdout",
          "text": [
            "  (0, 86580)\t0.13157118714240987\n",
            "  (0, 128420)\t0.04278499079283093\n",
            "  (0, 35983)\t0.03770448563619875\n",
            "  (0, 35187)\t0.09353930598317124\n",
            "  (0, 66098)\t0.09785515708314481\n",
            "  (0, 114428)\t0.05511105154696676\n",
            "  (0, 78955)\t0.05989856888061599\n",
            "  (0, 94362)\t0.055457031390147224\n",
            "  (0, 76722)\t0.06908779999621749\n",
            "  (0, 57308)\t0.1558717009157704\n",
            "  (0, 62221)\t0.02921527992427867\n",
            "  (0, 128402)\t0.05922294083277842\n",
            "  (0, 67156)\t0.07313443922740179\n",
            "  (0, 123989)\t0.08207027465330353\n",
            "  (0, 90252)\t0.031889368795417566\n",
            "  (0, 63363)\t0.08342748387969037\n",
            "  (0, 78784)\t0.0633940918806495\n",
            "  (0, 96144)\t0.10826904490745741\n",
            "  (0, 128026)\t0.060622095889758885\n",
            "  (0, 109271)\t0.10844724822064673\n",
            "  (0, 51730)\t0.09714744057976722\n",
            "  (0, 86001)\t0.07000411445838192\n",
            "  (0, 83256)\t0.08844382496462173\n",
            "  (0, 113986)\t0.17691750674853082\n",
            "  (0, 37565)\t0.03431760442478462\n",
            "  :\t:\n",
            "  (11313, 87626)\t0.041237139601784885\n",
            "  (11313, 30044)\t0.03581554412880591\n",
            "  (11313, 76377)\t0.0635841806495367\n",
            "  (11313, 119714)\t0.05924995560199499\n",
            "  (11313, 47982)\t0.04878764010149914\n",
            "  (11313, 28146)\t0.04703946070749562\n",
            "  (11313, 88363)\t0.13916610283479094\n",
            "  (11313, 56283)\t0.026074886321515986\n",
            "  (11313, 111695)\t0.08039375842219382\n",
            "  (11313, 90252)\t0.03304599951634829\n",
            "  (11313, 51730)\t0.10067098834752665\n",
            "  (11313, 68766)\t0.026413823187147637\n",
            "  (11313, 89860)\t0.029615670644273114\n",
            "  (11313, 80638)\t0.0409862722594402\n",
            "  (11313, 4605)\t0.06562288156075427\n",
            "  (11313, 76032)\t0.019916554974882542\n",
            "  (11313, 89362)\t0.022525659920776243\n",
            "  (11313, 90379)\t0.020651681778766563\n",
            "  (11313, 64095)\t0.03670564487644039\n",
            "  (11313, 95162)\t0.035721664777432695\n",
            "  (11313, 87620)\t0.03696568532482317\n",
            "  (11313, 111322)\t0.019851534178948714\n",
            "  (11313, 85354)\t0.03831068303611253\n",
            "  (11313, 50527)\t0.056595152440003904\n",
            "  (11313, 56979)\t0.03970306835789743\n"
          ]
        }
      ]
    },
    {
      "cell_type": "markdown",
      "source": [
        "##Q2."
      ],
      "metadata": {
        "id": "k4SvQCMvGNvQ"
      }
    },
    {
      "cell_type": "code",
      "source": [
        "from sklearn.metrics.pairwise import cosine_similarity"
      ],
      "metadata": {
        "id": "EG11Bp9Eckue"
      },
      "execution_count": 14,
      "outputs": []
    },
    {
      "cell_type": "code",
      "source": [
        "cosine_sim = cosine_similarity(x[13], x[5])\n",
        "print(cosine_sim)"
      ],
      "metadata": {
        "id": "FgYzvCiH_PZW",
        "colab": {
          "base_uri": "https://localhost:8080/"
        },
        "outputId": "e100fad0-4c9c-45bb-b12a-5c525bf375b3"
      },
      "execution_count": 15,
      "outputs": [
        {
          "output_type": "stream",
          "name": "stdout",
          "text": [
            "[[0.0817948]]\n"
          ]
        }
      ]
    },
    {
      "cell_type": "code",
      "source": [],
      "metadata": {
        "id": "gbv13peerX4o"
      },
      "execution_count": 12,
      "outputs": []
    },
    {
      "cell_type": "code",
      "source": [
        "vector = x\n",
        "df1 = pd.DataFrame(vector.toarray(), columns=vectorizer.get_feature_names_out())\n",
        "df1"
      ],
      "metadata": {
        "id": "7LkEvGEWjqmD"
      },
      "execution_count": null,
      "outputs": []
    },
    {
      "cell_type": "code",
      "source": [],
      "metadata": {
        "id": "CHiXoBGZoMRA"
      },
      "execution_count": null,
      "outputs": []
    }
  ]
}